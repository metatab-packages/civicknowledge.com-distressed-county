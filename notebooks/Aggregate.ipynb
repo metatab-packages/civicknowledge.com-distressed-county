{
 "cells": [
  {
   "cell_type": "code",
   "execution_count": 1,
   "metadata": {},
   "outputs": [],
   "source": [
    "import seaborn as sns\n",
    "import metapack as mp\n",
    "import pandas as pd\n",
    "import numpy as np\n",
    "import matplotlib.pyplot as plt\n",
    "from IPython.display import display \n",
    "\n",
    "%matplotlib inline\n",
    "sns.set_context('notebook')\n",
    "mp.jupyter.init()\n"
   ]
  },
  {
   "cell_type": "code",
   "execution_count": 4,
   "metadata": {},
   "outputs": [
    {
     "data": {
      "text/html": [
       "<h1>Distressed Tracts By County</h1>\n",
       "<p><code>civicknowledge.com-distressed-county-1.1.1</code> Last Update: 2020-05-26T20:25:00</p>\n",
       "<p><em>Counts of FFEIC distressed tracts, by county.</em></p>\n",
       "<p>The <a href=\"https://www.ffiec.gov/censusapp.htm\">FFEIC publishes a very large dataset of Census\n",
       "variables</a> and flags indicating ways in\n",
       "which housing and populations in tracts are distressed. This dataset aggregates\n",
       "those tract flags into counts of distressed tracts per county.</p>\n",
       "<h2>Contacts</h2>\n",
       "<ul>\n",
       "<li><strong>Wrangler</strong> <a href=\"mailto:eric@civicknowledge.com\">Eric Busboom</a>, <a href=\"http://civicknowledge.com\">Civic Knowledge</a></li>\n",
       "</ul>\n",
       "<h2>References</h2>\n",
       "<p><ul><li> <strong>ffeic_distressed</string>, <em>metapack+http://library.metatab.org/ffeic.gov-census-tract.csv#ffeic_distressed</em>. Flags indicating FFEIC \"distressed\" designations, per tract.</li><ul></p>"
      ],
      "text/plain": [
       "# Distressed Tracts By County\n",
       "`civicknowledge.com-distressed-county-1.1.1` Last Update: 2020-05-26T20:25:00\n",
       "\n",
       "_Counts of FFEIC distressed tracts, by county._\n",
       "\n",
       "\n",
       "The [FFEIC publishes a very large dataset of Census\n",
       "variables](https://www.ffiec.gov/censusapp.htm) and flags indicating ways in\n",
       "which housing and populations in tracts are distressed. This dataset aggregates\n",
       "those tract flags into counts of distressed tracts per county.\n",
       "\n",
       "\n",
       " \n",
       "\n",
       "## Contacts\n",
       "\n",
       "* **Wrangler** [Eric Busboom](mailto:eric@civicknowledge.com), [Civic Knowledge](http://civicknowledge.com)\n",
       "\n",
       "\n",
       "## References\n",
       "<ul><li> <strong>ffeic_distressed</string>, <em>metapack+http://library.metatab.org/ffeic.gov-census-tract.csv#ffeic_distressed</em>. Flags indicating FFEIC \"distressed\" designations, per tract.</li><ul>\n"
      ]
     },
     "execution_count": 4,
     "metadata": {},
     "output_type": "execute_result"
    }
   ],
   "source": [
    "#pkg = mp.jupyter.open_package()\n",
    "pkg = mp.jupyter.open_source_package()\n",
    "pkg"
   ]
  },
  {
   "cell_type": "code",
   "execution_count": 5,
   "metadata": {},
   "outputs": [
    {
     "ename": "AttributeError",
     "evalue": "'NoneType' object has no attribute 'dataframe'",
     "output_type": "error",
     "traceback": [
      "\u001b[0;31m---------------------------------------------------------------------------\u001b[0m",
      "\u001b[0;31mAttributeError\u001b[0m                            Traceback (most recent call last)",
      "\u001b[0;32m<ipython-input-5-14d312cd6448>\u001b[0m in \u001b[0;36m<module>\u001b[0;34m()\u001b[0m\n\u001b[0;32m----> 1\u001b[0;31m \u001b[0mtract\u001b[0m \u001b[0;34m=\u001b[0m \u001b[0mpkg\u001b[0m\u001b[0;34m.\u001b[0m\u001b[0mreference\u001b[0m\u001b[0;34m(\u001b[0m\u001b[0;34m'ffic_distressed'\u001b[0m\u001b[0;34m)\u001b[0m\u001b[0;34m.\u001b[0m\u001b[0mdataframe\u001b[0m\u001b[0;34m(\u001b[0m\u001b[0;34m)\u001b[0m\u001b[0;34m\u001b[0m\u001b[0;34m\u001b[0m\u001b[0m\n\u001b[0m",
      "\u001b[0;31mAttributeError\u001b[0m: 'NoneType' object has no attribute 'dataframe'"
     ]
    }
   ],
   "source": [
    "tract = pkg.reference('ffic_distressed').dataframe()"
   ]
  },
  {
   "cell_type": "code",
   "execution_count": null,
   "metadata": {},
   "outputs": [],
   "source": [
    "tract.head().T"
   ]
  },
  {
   "cell_type": "code",
   "execution_count": null,
   "metadata": {},
   "outputs": [],
   "source": [
    "from geoid.acs import County"
   ]
  },
  {
   "cell_type": "code",
   "execution_count": null,
   "metadata": {},
   "outputs": [],
   "source": [
    "tract['county_geoid'] = tract.apply(lambda r: County(r.state, r.county), axis=1)"
   ]
  },
  {
   "cell_type": "code",
   "execution_count": null,
   "metadata": {},
   "outputs": [],
   "source": [
    "g = tract.groupby('county_geoid')\n",
    "\n",
    "\n",
    "tract.poverty_distressed.value_counts()\n"
   ]
  },
  {
   "cell_type": "code",
   "execution_count": null,
   "metadata": {},
   "outputs": [],
   "source": [
    "tract.columns\n"
   ]
  },
  {
   "cell_type": "code",
   "execution_count": null,
   "metadata": {},
   "outputs": [],
   "source": [
    "\n",
    "for col in ['poverty_distressed', 'unemployment_distressed','population_distressed', \n",
    "            'rural_underserved', 'last_year_distressed','last_year_underserved', \n",
    "            'current_prior_distressed']:\n",
    "    \n",
    "    tract[col] = tract[col].replace({'X':1, ' ':0})\n",
    "    tract[col+'_pop'] = tract[col]*\n",
    "    "
   ]
  },
  {
   "cell_type": "code",
   "execution_count": null,
   "metadata": {},
   "outputs": [],
   "source": []
  }
 ],
 "metadata": {
  "kernelspec": {
   "display_name": "Python 3",
   "language": "python",
   "name": "python3"
  },
  "language_info": {
   "codemirror_mode": {
    "name": "ipython",
    "version": 3
   },
   "file_extension": ".py",
   "mimetype": "text/x-python",
   "name": "python",
   "nbconvert_exporter": "python",
   "pygments_lexer": "ipython3",
   "version": "3.6.9"
  }
 },
 "nbformat": 4,
 "nbformat_minor": 4
}
